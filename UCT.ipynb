{
  "nbformat": 4,
  "nbformat_minor": 0,
  "metadata": {
    "colab": {
      "provenance": []
    },
    "kernelspec": {
      "name": "python3",
      "display_name": "Python 3"
    },
    "language_info": {
      "name": "python"
    }
  },
  "cells": [
    {
      "cell_type": "markdown",
      "source": [
        "### **Importing Libraries**"
      ],
      "metadata": {
        "id": "DHWKUW9uqKtj"
      }
    },
    {
      "cell_type": "code",
      "execution_count": 1,
      "metadata": {
        "id": "Kv0dZCTZlvHT"
      },
      "outputs": [],
      "source": [
        "import math\n",
        "import random\n",
        "from collections import defaultdict\n",
        "from typing import List\n",
        "import numpy as np\n",
        "import matplotlib.pyplot as plt\n",
        "import random\n",
        "from collections import deque\n",
        "import copy\n",
        "from Card_and_Deck import *\n",
        "from GameState import GameState\n",
        "from Game_and_Player import *\n",
        "import time"
      ]
    },
    {
      "cell_type": "markdown",
      "source": [
        "### **Helper Functions**"
      ],
      "metadata": {
        "id": "ygL_rorKqO33"
      }
    },
    {
      "cell_type": "code",
      "source": [
        "class MCTSNode:\n",
        "    def __init__(self, game_state, parent=None,move_taken=None):\n",
        "        self.game_state = game_state  # The game state at this node\n",
        "        self.parent = parent  # Parent node\n",
        "        self.children = []  # List of child nodes\n",
        "        self.visits = 0  # Number of times this node has been visited\n",
        "        self.total_reward = 0  # Total reward (win/loss)\n",
        "        self.untried_moves = self.game_state.get_legal_moves()  # Legal moves from this state\n",
        "        self.move_taken = move_taken # move that led to this game state\n",
        "\n",
        "    def expand(self,move):\n",
        "          game_state = self.game_state\n",
        "          new_game_state = copy.deepcopy(game_state)  # Copy external game state, not self.game_state\n",
        "          self.untried_moves.remove(move)\n",
        "          child_game_state = new_game_state.apply_move(move)  # Apply move without modifying original\n",
        "\n",
        "          child_node = MCTSNode(child_game_state, parent=self, move_taken=move)\n",
        "          self.children.append(child_node)\n",
        "\n",
        "          return child_node\n",
        "\n",
        "    def simulate(self,game_state):\n",
        "\n",
        "        game_state_new = copy.deepcopy(game_state)\n",
        "        starting_player_index = game_state.current_player_index\n",
        "        starting_player_name = game_state.players[starting_player_index].name\n",
        "\n",
        "        while not game_state_new.is_terminal():\n",
        "            legal_moves = game_state_new.get_legal_moves()\n",
        "            if not legal_moves:\n",
        "                break\n",
        "            move = random.choice(legal_moves)\n",
        "            game_state_new.apply_move(move)\n",
        "\n",
        "        # rewards=game_state_new.tricks_won\n",
        "\n",
        "        # winner_name = max(rewards, key=rewards.get)\n",
        "\n",
        "        return game_state_new.tricks_won[starting_player_name]\n",
        "\n",
        "\n",
        "\n",
        "    def backpropagate(self, reward):\n",
        "        self.visits += 1\n",
        "        self.total_reward += reward\n",
        "        if self.parent:\n",
        "            self.parent.backpropagate(reward)\n",
        "\n",
        "    def ucb1(self,child, c=1.4):\n",
        "        parent_visits = child.parent.visits if child.parent else 1\n",
        "\n",
        "        if child.visits == 0:\n",
        "            return float(\"inf\")  # Prioritize unvisited nodes\n",
        "        return (child.total_reward / child.visits) + c * math.sqrt(math.log(parent_visits) / child.visits)\n",
        "\n",
        "    def best_child(self, c=1.4):\n",
        "        node = self\n",
        "        best = max(node.children, key=lambda child: node.ucb1(child, c))\n",
        "        return best\n",
        "\n",
        "    # def tree_policy(self, c=1.4):\n",
        "    #     \"\"\"\n",
        "    #     Traverses the tree from the current node to a leaf node.\n",
        "    #     Expands the node if there are untried moves.\n",
        "    #     \"\"\"\n",
        "\n",
        "    #     current_node = self\n",
        "    #     while not current_node.game_state.is_terminal():\n",
        "\n",
        "    #         if current_node.untried_moves:\n",
        "    #             return current_node.expand(random.choice(current_node.untried_moves))\n",
        "    #         else:\n",
        "\n",
        "    #             current_node = current_node.best_child( c)\n",
        "    #     return current_node\n",
        "\n",
        "\n",
        "\n",
        "\n",
        "\n",
        "\n",
        "\n"
      ],
      "metadata": {
        "id": "aAstbLR8qJKK"
      },
      "execution_count": 2,
      "outputs": []
    },
    {
      "cell_type": "code",
      "source": [
        "def mcts_search(root_node, num_simulations=100):\n",
        "\n",
        "    game_state_new = root_node.game_state\n",
        "    game_state_copy1 = copy.deepcopy(game_state_new)\n",
        "    root = MCTSNode(game_state_copy1)  # Root node of the MCTS tree\n",
        "\n",
        "    for _ in range(num_simulations):\n",
        "        node = root\n",
        "        game_state_copy = copy.deepcopy(root.game_state)\n",
        "\n",
        "        # Tree Traversal\n",
        "        while node.untried_moves == [] and node.children:\n",
        "            node = node.best_child(c=1.4)\n",
        "            game_state_copy.apply_move(node.move_taken)\n",
        "\n",
        "        # Expansion\n",
        "        if node.untried_moves:\n",
        "            move = random.choice(node.untried_moves)\n",
        "            node = node.expand( move)\n",
        "            game_state_copy.apply_move(move)\n",
        "\n",
        "        # Simulation\n",
        "        reward = node.simulate(game_state_copy)\n",
        "\n",
        "        # Backpropagation\n",
        "        node.backpropagate(reward)\n",
        "\n",
        "\n",
        "    best_child = max(root.children, key=lambda child: child.visits)\n",
        "    return best_child.move_taken\n"
      ],
      "metadata": {
        "id": "gsFX6fAt_dd4"
      },
      "execution_count": 19,
      "outputs": []
    },
    {
      "cell_type": "code",
      "source": [
        "\n",
        "\n",
        "def evaluate_monte_carlo(player_names,roles,index,num_games=1000, num_simulations=1000):\n",
        "    monte_carlo_wins = 0\n",
        "    win_results = []\n",
        "\n",
        "    for _ in range(num_games):\n",
        "        player_names = [\"Alice\", \"Bob\", \"Charlie\"]\n",
        "        roles = [\"Teen\", \"Do\", \"Paanch\"]\n",
        "        index = [0,1,2]\n",
        "\n",
        "        game = Game(player_names, roles,index)\n",
        "        game_state = GameState(game)\n",
        "\n",
        "        # game_state = copy.deepcopy(initial_game_state)\n",
        "\n",
        "\n",
        "\n",
        "\n",
        "        while not game_state.is_terminal():\n",
        "            if game_state.current_player_index == 0:  # Monte Carlo player is Player 0\n",
        "                root_node = MCTSNode(game_state)\n",
        "                best_move = mcts_search(root_node, num_simulations)\n",
        "                # print(f\"Monte Carlo Best Move: {best_move}\")\n",
        "            else:\n",
        "                legal_moves = game_state.get_legal_moves()\n",
        "                best_move = random.choice(legal_moves)\n",
        "\n",
        "            game_state.apply_move(best_move)\n",
        "\n",
        "            # print(\"Table Cards:\", game_state.table_cards)\n",
        "            # print(\"Current Player Index:\", game_state.current_player_index)\n",
        "            # print(\"Tricks Won:\", game_state.tricks_won)\n",
        "\n",
        "        rewards=game_state.tricks_won\n",
        "\n",
        "\n",
        "        max_tricks = max(rewards.values())\n",
        "        potential_winners = [name for name, count in rewards.items() if count == max_tricks]\n",
        "\n",
        "        winner_name = potential_winners[0]\n",
        "        print(f\"Winner: {winner_name}\")\n",
        "\n",
        "        if winner_name == \"Alice\":\n",
        "            monte_carlo_wins += 1\n",
        "            win_results.append(1)\n",
        "        else:\n",
        "            win_results.append(0)\n",
        "\n",
        "    win_rate = monte_carlo_wins / num_games\n",
        "    std_dev = np.std(win_results, ddof=1)\n",
        "\n",
        "    print(f\"Monte Carlo vs Rule-Based Win Rate: {win_rate:.2%}\")\n",
        "    print(f\"Standard Deviation of Wins: {std_dev:.4f}\")\n",
        "\n",
        "\n",
        "\n"
      ],
      "metadata": {
        "id": "dbs8zd8KD2xL"
      },
      "execution_count": 20,
      "outputs": []
    },
    {
      "cell_type": "code",
      "source": [
        "# np.random.seed(24)\n",
        "player_names = [\"Alice\", \"Bob\", \"Charlie\"]\n",
        "roles = [\"Teen\", \"Do\", \"Paanch\"]\n",
        "index = [0,1,2]"
      ],
      "metadata": {
        "id": "m7y5S_Y_IaG0"
      },
      "execution_count": 21,
      "outputs": []
    },
    {
      "cell_type": "code",
      "source": [
        "\n",
        "# np.random.seed(24)\n",
        "# Initialize players with names and roles\n",
        "player_names = [\"Alice\", \"Bob\", \"Charlie\"]\n",
        "roles = [\"Teen\", \"Do\", \"Paanch\"]  # Assign roles to players\n",
        "index = [0,1,2]\n",
        "\n",
        "game = Game(player_names, roles,index)\n",
        "\n",
        "print(f\"Trump suit selected: {game.trump_suit}\")\n",
        "print(\"Starting hands:\")\n",
        "\n",
        "dict_hands={}\n",
        "\n",
        "for player in game.players:\n",
        "    dict_hands[player.name]=list(player.hand)\n",
        "    print(f\"{player.name}: {list(player.hand)}\")\n",
        "\n",
        "print(dict_hands)\n",
        "\n",
        "\n",
        "\n",
        "game_state = GameState(game)\n"
      ],
      "metadata": {
        "colab": {
          "base_uri": "https://localhost:8080/"
        },
        "id": "SI6S9yqhI2is",
        "outputId": "7a362117-16d6-4503-9a55-9232a43843f1"
      },
      "execution_count": 22,
      "outputs": [
        {
          "output_type": "stream",
          "name": "stdout",
          "text": [
            "Trump suit selected: Hearts\n",
            "Starting hands:\n",
            "Alice: [Q of Clubs, K of Hearts, K of Clubs, 7 of Hearts, 10 of Spades, Q of Spades, Q of Hearts, J of Clubs, 8 of Diamonds, 9 of Diamonds]\n",
            "Bob: [8 of Clubs, A of Diamonds, 9 of Spades, 7 of Spades, J of Hearts, 9 of Hearts, J of Diamonds, A of Hearts, K of Diamonds, J of Spades]\n",
            "Charlie: [Q of Diamonds, A of Clubs, 10 of Hearts, 10 of Diamonds, 8 of Spades, 8 of Hearts, 10 of Clubs, K of Spades, A of Spades, 9 of Clubs]\n",
            "{'Alice': [Q of Clubs, K of Hearts, K of Clubs, 7 of Hearts, 10 of Spades, Q of Spades, Q of Hearts, J of Clubs, 8 of Diamonds, 9 of Diamonds], 'Bob': [8 of Clubs, A of Diamonds, 9 of Spades, 7 of Spades, J of Hearts, 9 of Hearts, J of Diamonds, A of Hearts, K of Diamonds, J of Spades], 'Charlie': [Q of Diamonds, A of Clubs, 10 of Hearts, 10 of Diamonds, 8 of Spades, 8 of Hearts, 10 of Clubs, K of Spades, A of Spades, 9 of Clubs]}\n"
          ]
        }
      ]
    },
    {
      "cell_type": "code",
      "source": [
        "\n",
        "# game_state.apply_move((game_state.get_legal_moves())[0])\n",
        "# game_state.apply_move((game_state.get_legal_moves())[0])\n",
        "# game_state.apply_move((game_state.get_legal_moves())[0])\n",
        "game_state.apply_move((game_state.get_legal_moves())[0])\n",
        "# print(\"Initial GameState:\")\n",
        "\n",
        "print(game_state.get_legal_moves())\n",
        "print(game_state.hands)\n",
        "print(game_state.table_cards)"
      ],
      "metadata": {
        "colab": {
          "base_uri": "https://localhost:8080/"
        },
        "id": "ddEqNNmjKbDg",
        "outputId": "114f2d4d-22dd-4b2d-fb1c-1bfa16e540a9"
      },
      "execution_count": 29,
      "outputs": [
        {
          "output_type": "stream",
          "name": "stdout",
          "text": [
            "[A of Clubs, 10 of Clubs, 9 of Clubs]\n",
            "{'Alice': [Q of Clubs, K of Hearts, K of Clubs, 7 of Hearts, 10 of Spades, Q of Spades, Q of Hearts, J of Clubs, 9 of Diamonds], 'Bob': [9 of Spades, 7 of Spades, J of Hearts, 9 of Hearts, J of Diamonds, A of Hearts, K of Diamonds, J of Spades], 'Charlie': [A of Clubs, 10 of Hearts, 10 of Diamonds, 8 of Spades, 8 of Hearts, 10 of Clubs, K of Spades, A of Spades, 9 of Clubs]}\n",
            "[[1, 8 of Clubs]]\n"
          ]
        }
      ]
    },
    {
      "cell_type": "code",
      "source": [
        "root_node = MCTSNode(game_state)\n",
        "best_move = mcts_search(root_node, num_simulations=1000)\n",
        "print(f\"Monte Carlo Best Move: {best_move}\")"
      ],
      "metadata": {
        "colab": {
          "base_uri": "https://localhost:8080/"
        },
        "id": "luiqwcdfJN-_",
        "outputId": "154a2298-884d-4834-d330-596348d41342"
      },
      "execution_count": 30,
      "outputs": [
        {
          "output_type": "stream",
          "name": "stdout",
          "text": [
            "Monte Carlo Best Move: A of Clubs\n"
          ]
        }
      ]
    },
    {
      "cell_type": "code",
      "source": [
        "def evaluate_monte_carlo(player_names, roles, index, num_games=1000, num_simulations=1000):\n",
        "    monte_carlo_wins = 0\n",
        "    win_results = []\n",
        "\n",
        "    for _ in range(num_games):\n",
        "\n",
        "        player_names = [\"Alice\", \"Bob\", \"Charlie\"]\n",
        "        roles = [\"Teen\", \"Do\", \"Paanch\"]\n",
        "        index = [0, 1, 2]\n",
        "\n",
        "\n",
        "        game = Game(player_names, roles, index)\n",
        "        game_state = GameState(game)\n",
        "\n",
        "\n",
        "        while not game_state.is_terminal():\n",
        "            if game_state.current_player_index == 0:  # Monte Carlo player is Player 0\n",
        "                root_node = MCTSNode(game_state)\n",
        "                best_move = mcts_search(root_node, num_simulations)\n",
        "            else:\n",
        "                legal_moves1 = game_state.get_legal_moves()\n",
        "                # print(game_state.players[game_state.current_player_index].hand)\n",
        "\n",
        "\n",
        "                if not legal_moves1:\n",
        "                    print(f\"No legal moves for player {game_state.current_player_index}. Ending game.\")\n",
        "                    break\n",
        "\n",
        "                best_move = random.choice(legal_moves1)\n",
        "\n",
        "            game_state.apply_move(best_move)\n",
        "\n",
        "\n",
        "        rewards = game_state.tricks_won\n",
        "        max_tricks = max(rewards.values())\n",
        "        potential_winners = [name for name, count in rewards.items() if count == max_tricks]\n",
        "\n",
        "        winner_name = potential_winners[0]\n",
        "        print(f\"Winner: {winner_name}\")\n",
        "\n",
        "        if winner_name == \"Alice\":\n",
        "            monte_carlo_wins += 1\n",
        "            win_results.append(1)\n",
        "        else:\n",
        "            win_results.append(0)\n",
        "\n",
        "    # Calculate and print win rate and standard deviation\n",
        "    win_rate = monte_carlo_wins / num_games\n",
        "    std_dev = np.std(win_results, ddof=1)\n",
        "\n",
        "    print(f\"Monte Carlo vs Rule-Based Win Rate: {win_rate:.2%}\")\n",
        "    print(f\"Standard Deviation of Wins: {std_dev:.4f}\")\n"
      ],
      "metadata": {
        "id": "0_ZUBZcqLGza"
      },
      "execution_count": 31,
      "outputs": []
    },
    {
      "cell_type": "code",
      "source": [
        "start=time.time()\n",
        "evaluate_monte_carlo(player_names,roles,index,num_games=100, num_simulations=100)\n",
        "end=time.time()\n",
        "print(f\"Execution Time: {end - start:.4f} seconds\")"
      ],
      "metadata": {
        "colab": {
          "base_uri": "https://localhost:8080/"
        },
        "id": "OciopVa9Iib5",
        "outputId": "fa73d45a-4034-4831-b489-b517ab86a903"
      },
      "execution_count": 32,
      "outputs": [
        {
          "output_type": "stream",
          "name": "stdout",
          "text": [
            "Winner: Bob\n",
            "Winner: Bob\n",
            "Winner: Charlie\n",
            "Winner: Charlie\n",
            "Winner: Alice\n",
            "Winner: Bob\n",
            "Winner: Alice\n",
            "Winner: Alice\n",
            "Winner: Alice\n",
            "Winner: Bob\n",
            "Winner: Bob\n",
            "Winner: Alice\n",
            "Winner: Bob\n",
            "Winner: Charlie\n",
            "Winner: Alice\n",
            "Winner: Charlie\n",
            "Winner: Alice\n",
            "Winner: Alice\n",
            "Winner: Alice\n",
            "Winner: Alice\n",
            "Winner: Alice\n",
            "Winner: Bob\n",
            "Winner: Charlie\n",
            "Winner: Bob\n",
            "Winner: Alice\n",
            "Winner: Alice\n",
            "Winner: Alice\n",
            "Winner: Bob\n",
            "Winner: Bob\n",
            "Winner: Alice\n",
            "Winner: Alice\n",
            "Winner: Alice\n",
            "Winner: Charlie\n",
            "Winner: Alice\n",
            "Winner: Charlie\n",
            "Winner: Charlie\n",
            "Winner: Bob\n",
            "Winner: Alice\n",
            "Winner: Bob\n",
            "Winner: Alice\n",
            "Winner: Charlie\n",
            "Winner: Charlie\n",
            "Winner: Bob\n",
            "Winner: Alice\n",
            "Winner: Alice\n",
            "Winner: Charlie\n",
            "Winner: Alice\n",
            "Winner: Alice\n",
            "Winner: Alice\n",
            "Winner: Bob\n",
            "Winner: Alice\n",
            "Winner: Bob\n",
            "Winner: Alice\n",
            "Winner: Charlie\n",
            "Winner: Alice\n",
            "Winner: Alice\n",
            "Winner: Alice\n",
            "Winner: Bob\n",
            "Winner: Bob\n",
            "Winner: Charlie\n",
            "Winner: Bob\n",
            "Winner: Bob\n",
            "Winner: Bob\n",
            "Winner: Bob\n",
            "Winner: Charlie\n",
            "Winner: Charlie\n",
            "Winner: Bob\n",
            "Winner: Bob\n",
            "Winner: Alice\n",
            "Winner: Charlie\n",
            "Winner: Alice\n",
            "Winner: Bob\n",
            "Winner: Charlie\n",
            "Winner: Charlie\n",
            "Winner: Charlie\n",
            "Winner: Charlie\n",
            "Winner: Alice\n",
            "Winner: Charlie\n",
            "Winner: Alice\n",
            "Winner: Charlie\n",
            "Winner: Alice\n",
            "Winner: Bob\n",
            "Winner: Bob\n",
            "Winner: Bob\n",
            "Winner: Bob\n",
            "Winner: Charlie\n",
            "Winner: Bob\n",
            "Winner: Charlie\n",
            "Winner: Bob\n",
            "Winner: Charlie\n",
            "Winner: Bob\n",
            "Winner: Bob\n",
            "Winner: Alice\n",
            "Winner: Charlie\n",
            "Winner: Charlie\n",
            "Winner: Charlie\n",
            "Winner: Alice\n",
            "Winner: Charlie\n",
            "Winner: Charlie\n",
            "Winner: Alice\n",
            "Monte Carlo vs Rule-Based Win Rate: 38.00%\n",
            "Standard Deviation of Wins: 0.4878\n",
            "Execution Time: 116.0367 seconds\n"
          ]
        }
      ]
    },
    {
      "cell_type": "code",
      "source": [],
      "metadata": {
        "id": "tjdGOYWHIkua"
      },
      "execution_count": null,
      "outputs": []
    }
  ]
}